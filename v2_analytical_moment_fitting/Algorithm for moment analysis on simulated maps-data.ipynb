{
 "cells": [
  {
   "cell_type": "markdown",
   "metadata": {},
   "source": [
    "Algorithm:"
   ]
  },
  {
   "cell_type": "markdown",
   "metadata": {},
   "source": [
    "- Read in the data (for large maps this is not going to be possible and we will have to think about reading in pixel by pixel - this is particularly relavant while fitting for the moments.)\n",
    "- Downgrade map to some low resolution and fit the MBB temperature and slope by performing some moment fit defined by the user.\n",
    "- Now for each parent pixel the T and slope are fixed. Use these to construct the spectral basis functions.\n",
    "- Find the children pixel inside the parent pixel and iterate over each of them to get the moments by dotting the spectral functions with the SED in the child pixel.\n",
    "- Repeat this for each parent pixel.\n",
    "- Write out the moment maps."
   ]
  },
  {
   "cell_type": "code",
   "execution_count": null,
   "metadata": {
    "collapsed": true
   },
   "outputs": [],
   "source": []
  }
 ],
 "metadata": {
  "kernelspec": {
   "display_name": "Python 2",
   "language": "python",
   "name": "python2"
  },
  "language_info": {
   "codemirror_mode": {
    "name": "ipython",
    "version": 2
   },
   "file_extension": ".py",
   "mimetype": "text/x-python",
   "name": "python",
   "nbconvert_exporter": "python",
   "pygments_lexer": "ipython2",
   "version": "2.7.13"
  }
 },
 "nbformat": 4,
 "nbformat_minor": 2
}
