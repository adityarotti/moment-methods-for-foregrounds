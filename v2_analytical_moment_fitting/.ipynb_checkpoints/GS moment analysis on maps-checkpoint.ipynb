{
 "cells": [
  {
   "cell_type": "code",
   "execution_count": 1,
   "metadata": {
    "collapsed": false,
    "deletable": true,
    "editable": true
   },
   "outputs": [
    {
     "name": "stdout",
     "output_type": "stream",
     "text": [
      "Populating the interactive namespace from numpy and matplotlib\n"
     ]
    }
   ],
   "source": [
    "import healpy as h\n",
    "from modules import analytic_sed as ased\n",
    "from modules import ana_moment_fit as anamom\n",
    "from modules import gram_schmidt_v0 as gsmom\n",
    "import sys\n",
    "import os\n",
    "%pylab notebook\n",
    "ioff()"
   ]
  },
  {
   "cell_type": "code",
   "execution_count": 6,
   "metadata": {
    "collapsed": true,
    "deletable": true,
    "editable": true
   },
   "outputs": [],
   "source": [
    "# Setting analysis resolution\n",
    "nside_moments=256 ; nside_freq=0\n",
    "freq=[100,143,217,353,545,857]\n",
    "\n",
    "do_spectra_plots=True\n",
    "lmax=3*nside_moments ; ell=arange(lmax+1)\n",
    "\n",
    "do_field=True ; do_halo=True"
   ]
  },
  {
   "cell_type": "code",
   "execution_count": 7,
   "metadata": {
    "collapsed": false,
    "deletable": true,
    "editable": true
   },
   "outputs": [
    {
     "name": "stdout",
     "output_type": "stream",
     "text": [
      "mkdir: ./figures/moment_analysis_marcelo_sim_Mnside256_Fnside0/: File exists\n",
      "mkdir: ./figures/moment_analysis_marcelo_sim_Mnside256_Fnside0/field_halo/: File exists\n",
      "mkdir: ./figures/moment_analysis_marcelo_sim_Mnside256_Fnside0/field_halo//jpeg/: File exists\n",
      "mkdir: ./figures/moment_analysis_marcelo_sim_Mnside256_Fnside0/field_halo//pdf/: File exists\n"
     ]
    }
   ],
   "source": [
    "# Setting number of pixels\n",
    "num_moment_pix=h.nside2npix(nside_moments) \n",
    "if nside_freq==0:\n",
    "    num_freq_pix=1\n",
    "else:\n",
    "    num_freq_pix=h.nside2npix(nside_freq)\n",
    "\n",
    "nu=np.array(freq).astype(\"float\")\n",
    "\n",
    "figpath=\"./figures/moment_analysis_marcelo_sim\"+\"_Mnside\" + str(nside_moments) + \"_Fnside\" + str(nside_freq) + \"/\"\n",
    "!mkdir $figpath\n",
    "if do_field and do_halo:\n",
    "    figpath=figpath + \"field_halo/\"\n",
    "    !mkdir $figpath\n",
    "    figpath_jpeg=figpath + \"/jpeg/\"\n",
    "    !mkdir $figpath_jpeg\n",
    "    figpath_pdf=figpath + \"/pdf/\"\n",
    "    !mkdir $figpath_pdf\n",
    "elif do_field:\n",
    "    figpath=figpath + \"field/\"\n",
    "    !mkdir $figpath\n",
    "    figpath_jpeg=figpath + \"/jpeg/\"\n",
    "    !mkdir $figpath_jpeg\n",
    "    figpath_pdf=figpath + \"/pdf/\"\n",
    "    !mkdir $figpath_pdf\n",
    "elif do_halo:\n",
    "    figpath=figpath + \"halo/\"\n",
    "    !mkdir $figpath\n",
    "    figpath_jpeg=figpath + \"/jpeg/\"\n",
    "    !mkdir $figpath_jpeg\n",
    "    figpath_pdf=figpath + \"/pdf/\"\n",
    "    !mkdir $figpath_pdf"
   ]
  },
  {
   "cell_type": "code",
   "execution_count": 3,
   "metadata": {
    "collapsed": false,
    "deletable": true,
    "editable": true
   },
   "outputs": [
    {
     "name": "stdout",
     "output_type": "stream",
     "text": [
      "../data/marcelo_planck_freq_sims/fullsky_cib-2lpt_0100GHz.fits\n"
     ]
    },
    {
     "name": "stderr",
     "output_type": "stream",
     "text": [
      "/Users/adityarotti/Library/Enthought/Canopy/edm/envs/User/lib/python2.7/site-packages/healpy/fitsfunc.py:326: UserWarning: No INDXSCHM keyword in header file : assume IMPLICIT\n",
      "  \"assume {}\".format(schm))\n"
     ]
    },
    {
     "name": "stdout",
     "output_type": "stream",
     "text": [
      "../data/marcelo_planck_freq_sims/fullsky_cib-halo_0100GHz.fits\n",
      "../data/marcelo_planck_freq_sims/fullsky_cib-2lpt_0143GHz.fits\n",
      "../data/marcelo_planck_freq_sims/fullsky_cib-halo_0143GHz.fits\n",
      "../data/marcelo_planck_freq_sims/fullsky_cib-2lpt_0217GHz.fits\n",
      "../data/marcelo_planck_freq_sims/fullsky_cib-halo_0217GHz.fits\n",
      "../data/marcelo_planck_freq_sims/fullsky_cib-2lpt_0353GHz.fits\n",
      "../data/marcelo_planck_freq_sims/fullsky_cib-halo_0353GHz.fits\n",
      "../data/marcelo_planck_freq_sims/fullsky_cib-2lpt_0545GHz.fits\n",
      "../data/marcelo_planck_freq_sims/fullsky_cib-halo_0545GHz.fits\n",
      "../data/marcelo_planck_freq_sims/fullsky_cib-2lpt_0857GHz.fits\n",
      "../data/marcelo_planck_freq_sims/fullsky_cib-halo_0857GHz.fits\n"
     ]
    }
   ],
   "source": [
    "data_path=\"../data/marcelo_planck_freq_sims/\"\n",
    "data=np.zeros((np.size(freq),h.nside2npix(nside_moments)),np.float64)\n",
    "for i,f in enumerate(freq):\n",
    "    if do_field and do_halo: \n",
    "        filename=data_path + \"fullsky_cib-2lpt_\" + str(int(f)).zfill(4) + \"GHz.fits\"\n",
    "        print filename\n",
    "        field=h.read_map(filename,verbose=False)\n",
    "        filename=data_path + \"fullsky_cib-halo_\" + str(int(f)).zfill(4) + \"GHz.fits\"\n",
    "        print filename\n",
    "        halo=h.read_map(filename,verbose=False)\n",
    "        temp_data=field+halo\n",
    "    elif do_field:\n",
    "        print \"doing field only\"\n",
    "        filename=data_path + \"fullsky_cib-2lpt_\" + str(int(f)).zfill(4) + \"GHz.fits\"\n",
    "        print filename\n",
    "        temp_data=h.read_map(filename,verbose=False)\n",
    "    elif do_halo:\n",
    "        print \"doing halo only\"\n",
    "        filename=data_path + \"fullsky_cib-halo_\" + str(int(f)).zfill(4) + \"GHz.fits\"\n",
    "        print filename\n",
    "        temp_data=h.read_map(filename,verbose=False)\n",
    "    if nside_moments!=h.get_nside(temp_data):\n",
    "        data[i,:]=h.ud_grade(temp_data,nside_moments)[:]\n",
    "    else:\n",
    "        data[i,:]=temp_data"
   ]
  },
  {
   "cell_type": "code",
   "execution_count": 18,
   "metadata": {
    "collapsed": false,
    "scrolled": false
   },
   "outputs": [],
   "source": [
    "for i,f in enumerate(freq):\n",
    "    mu=np.median(data[i,:]) ; stdev=np.std(data[i,:])\n",
    "    vmin=1.-4*stdev/mu ; vmax=1.+4*stdev/mu #; print vmin,vmax\n",
    "    title_name=str(f) + \" GHz\" \"\\n [Mean = \" + str('{:.2e}'.format(mu,3))+ \" ; Std. dev. =\" + str('{:.2e}'.format(stdev)) + \"]\"\n",
    "    h.mollview(data[i,:]/mu,min=vmin,max=vmax,title=title_name)\n",
    "    savefig(figpath_jpeg + \"data_\"+str(f)+\"GHz.jpeg\",bbox_inches=\"tight\")"
   ]
  },
  {
   "cell_type": "code",
   "execution_count": 19,
   "metadata": {
    "collapsed": false,
    "deletable": true,
    "editable": true
   },
   "outputs": [],
   "source": [
    "if do_spectra_plots:\n",
    "    cl_data=np.zeros((np.size(freq),np.size(freq),lmax+1),float)\n",
    "    for f1 in range(np.size(freq)):\n",
    "        for f2 in range(f1+1):\n",
    "            #print freq[f1],freq[f2]\n",
    "            cl_data[f1,f2,:]=h.alm2cl(h.map2alm(data[f1,:],lmax=lmax),h.map2alm(data[f2,:],lmax=lmax))      \n",
    "            cl_data[f2,f1,:]=cl_data[f1,f2,:]"
   ]
  },
  {
   "cell_type": "code",
   "execution_count": 20,
   "metadata": {
    "collapsed": false,
    "deletable": true,
    "editable": true
   },
   "outputs": [],
   "source": [
    "T_fit=np.zeros(num_freq_pix,np.float64)\n",
    "slope_fit=np.zeros(num_freq_pix,np.float64)\n",
    "local_monopole=np.zeros((np.size(freq),num_freq_pix),np.float64)\n",
    "if num_freq_pix==1:\n",
    "    for i in range(np.size(freq)):\n",
    "        local_monopole[i,:]=np.mean(data[i,])\n",
    "else:\n",
    "    for i in range(np.size(freq)):\n",
    "        local_monopole[i,:]=h.ud_grade(data[i,],nside_freq)"
   ]
  },
  {
   "cell_type": "markdown",
   "metadata": {
    "deletable": true,
    "editable": true
   },
   "source": [
    "# The cell below is the most time consuming, depending on nside_freq"
   ]
  },
  {
   "cell_type": "code",
   "execution_count": 22,
   "metadata": {
    "collapsed": false,
    "deletable": true,
    "editable": true,
    "hideOutput": true,
    "scrolled": false
   },
   "outputs": [
    {
     "name": "stderr",
     "output_type": "stream",
     "text": [
      "/Users/adityarotti/Library/Enthought/Canopy/edm/envs/User/lib/python2.7/site-packages/scipy/optimize/minpack.py:785: OptimizeWarning: Covariance of the parameters could not be estimated\n",
      "  category=OptimizeWarning)\n"
     ]
    }
   ],
   "source": [
    "mom_fit=anamom.moment_fit(2)\n",
    "for i in range(num_freq_pix):\n",
    "    fit_par0=mom_fit.fit_monopole_sed(freq,local_monopole[:,i],der_order=0,bounds_true=True,flat_sensitivity=False)\n",
    "    fit_par=mom_fit.fit_monopole_sed(freq,local_monopole[:,i],der_order=2,bounds_true=True,flat_sensitivity=False)\n",
    "    #print i\n",
    "    T_fit[i]=fit_par0[1]\n",
    "    slope_fit[i]=fit_par0[2]"
   ]
  },
  {
   "cell_type": "code",
   "execution_count": 26,
   "metadata": {
    "collapsed": false,
    "deletable": true,
    "editable": true,
    "hideOutput": true
   },
   "outputs": [
    {
     "name": "stdout",
     "output_type": "stream",
     "text": [
      "[ 13.04858703] [ 1.71746267]\n"
     ]
    }
   ],
   "source": [
    "if nside_freq>0:\n",
    "    h.mollview(T_fit,title=\"MBB Temperature\")\n",
    "    savefig(figpath + \"T_map.pdf\",dpi=300)\n",
    "    \n",
    "    h.mollview(slope_fit,title=\"MBB Slope\")\n",
    "    savefig(figpath + \"slope_map.pdf\",dpi=300)\n",
    "else:\n",
    "    print T_fit,slope_fit\n",
    "    figure()\n",
    "    plot(nu,mom_fit.moment_expansion_function(nu,*fit_par),\"k-\",label=\"Monopole\")\n",
    "    title_name=\"MBB fit [T=\" + str(round(fit_par0[1],3)) + \" ; Slope=\" + str(round(fit_par0[2],3)) + \"]\"\n",
    "    plot(nu,abs(local_monopole[:,0]-mom_fit.moment_expansion_function(nu,*fit_par0)),\"--\",label=title_name)\n",
    "    title_name=\"Moment fit [T=\" + str(round(fit_par[1],3)) + \" ; Slope=\" + str(round(fit_par[2],3)) + \"]\"\n",
    "    plot(nu,abs(local_monopole[:,0]-mom_fit.moment_expansion_function(nu,*fit_par)),\"-\",label=title_name)\n",
    "    xlabel(r\"Frequency $\\nu$ [GHz]\")\n",
    "    ylabel(r\"$\\Delta I_{\\nu}$\")\n",
    "    legend(loc=0)\n",
    "    semilogy()\n",
    "    savefig(figpath + \"monopole_sed_fit.pdf\",dpi=150,bbox_inches=\"tight\")"
   ]
  },
  {
   "cell_type": "code",
   "execution_count": 27,
   "metadata": {
    "collapsed": false,
    "deletable": true,
    "editable": true
   },
   "outputs": [],
   "source": [
    "gs_fit=gsmom.gram_schmidt_fitting(2)\n",
    "moments=np.zeros((6,h.nside2npix(nside_moments)),float)\n",
    "for i in range(num_freq_pix):\n",
    "    T=T_fit[i] ; slope=slope_fit[i]\n",
    "    gs_fit.gram_schmidt_iterative(nu,T,slope,tol=1e-15)\n",
    "    if num_freq_pix>1:\n",
    "        v=h.boundaries(nside_freq,i) ; v=np.swapaxes(v,0,1) \n",
    "        child_pixels=h.query_polygon(nside_moments,v)\n",
    "    else:\n",
    "        child_pixels=np.arange(h.nside2npix(nside_moments))\n",
    "    for pix in child_pixels:\n",
    "        Inu=data[:,pix]\n",
    "        gs_coeffs=gs_fit.get_basis_coeffs(Inu,2)\n",
    "        moments[:,pix]=np.array(gs_coeffs)"
   ]
  },
  {
   "cell_type": "code",
   "execution_count": 28,
   "metadata": {
    "collapsed": false,
    "deletable": true,
    "editable": true,
    "scrolled": false
   },
   "outputs": [],
   "source": [
    "for i in range(6):\n",
    "    if nside_freq>0:\n",
    "        label=r\"Moment \"+ str(i)\n",
    "    else:\n",
    "        label=\"Moment \"+ str(i) + \" [T=\" + str(round(T_fit[0],3)) + r\"; $\\alpha$=\" + str(round(slope_fit[0],3)) + \"]\"\n",
    "    temp_map=moments[i,]/np.mean(moments[i,])\n",
    "    map_min=np.mean(temp_map)- 3.*np.std(temp_map)\n",
    "    map_max=np.mean(temp_map)+ 3.*np.std(temp_map)\n",
    "    label=label + \"\\n\" + \"Median: \" + str('{:.2e}'.format(np.median(moments[i,]))) \n",
    "    label=label + \" ; Mean: \" + str('{:.2e}'.format(np.mean(moments[i,]))) \n",
    "    label=label + \" ; Std. dev.: \" + str('{:.2e}'.format(np.std(moments[i,])))\n",
    "    h.mollview(temp_map,title=label,min=map_min,max=map_max)\n",
    "    filename=figpath_pdf + \"moment_\" + str(i) + \".pdf\"\n",
    "    savefig(filename,dpi=150,bbox_inches=\"tight\")\n",
    "    filename=figpath_jpeg + \"moment_\" + str(i) + \".jpeg\"\n",
    "    savefig(filename,dpi=150,bbox_inches=\"tight\")"
   ]
  },
  {
   "cell_type": "markdown",
   "metadata": {
    "deletable": true,
    "editable": true
   },
   "source": [
    "# Reconstruct data"
   ]
  },
  {
   "cell_type": "code",
   "execution_count": 35,
   "metadata": {
    "collapsed": false,
    "deletable": true,
    "editable": true,
    "hideOutput": true,
    "scrolled": false
   },
   "outputs": [],
   "source": [
    "for k in range(6):\n",
    "    num_moments=k+1\n",
    "    rec_data=np.zeros((np.size(nu),num_moment_pix),float)\n",
    "    for i in range(num_freq_pix):\n",
    "        T=T_fit[i] ; slope=slope_fit[i]\n",
    "        gs_fit.gram_schmidt_iterative(nu,T,slope,tol=1e-15)\n",
    "        if num_freq_pix>1:\n",
    "            v=h.boundaries(nside_freq,i) ; v=np.swapaxes(v,0,1) \n",
    "            child_pixels=h.query_polygon(nside_moments,v)\n",
    "        else:\n",
    "            child_pixels=np.arange(h.nside2npix(nside_moments))\n",
    "\n",
    "        for pix in child_pixels:\n",
    "            par=moments[:num_moments,pix]\n",
    "            rec_data[:,pix]=gs_fit.reconstruct_sed(*par)\n",
    "            \n",
    "    color=[\"r\",\"b\",\"g\",\"m\",\"c\",\"y\"]\n",
    "   \n",
    "    figure()\n",
    "    diff_max=[]\n",
    "    [diff_max.append(max(data[i,:])) for i in range(6)] ; diff_max=np.array(diff_max)\n",
    "    diff_min=[]\n",
    "    [diff_min.append(min(data[i,:])) for i in range(6)] ; diff_min=np.array(diff_min)\n",
    "    fill_between(nu,diff_max,diff_min,color=\"r\",alpha=0.4,label=\"Data\")\n",
    "    fill_between(nu,0.01*diff_max,0.01*diff_min,color=\"k\",alpha=0.4,label=r\"Data $1\\%$\")\n",
    "    plot(nu,diff_max,color=\"k\")\n",
    "    plot(nu,diff_min,color=\"k\")\n",
    "    \n",
    "    diff_max=[]\n",
    "    [diff_max.append(max(abs(rec_data[j,:]-data[j,:]))) for j in range(6)] ; diff_max=np.array(diff_max)\n",
    "    diff_min=[]\n",
    "    [diff_min.append(min(abs(rec_data[j,:]-data[j,:]))) for j in range(6)] ; diff_min=np.array(diff_min)\n",
    "    fill_between(nu,diff_min,diff_max,color=color[2],alpha=0.4,label=str(num_moments) + \" moment fit\")\n",
    "    plot(nu,diff_max,color=color[2])\n",
    "    plot(nu,diff_min,color=color[2])\n",
    "\n",
    "    loglog()  \n",
    "    grid()\n",
    "    xlabel(r\"Frequency $\\nu$ [GHz]\")\n",
    "    ylabel(r\"$\\Delta I_{\\nu}$\")\n",
    "    xticks(freq,freq)\n",
    "    ylim(ymax=1e2,ymin=1e-16) ; legend(loc=0,ncol=2)\n",
    "    filename=figpath_pdf+ \"fit\" + \"_moments_\" +  str(num_moments) + \".pdf\"        \n",
    "    savefig(filename,dpi=150)\n",
    "    filename=figpath_jpeg+ \"fit\" + \"_moments_\" +  str(num_moments) + \".jpeg\"        \n",
    "    savefig(filename,dpi=150)\n",
    "    \n",
    "    \n",
    "    \n",
    "    if do_spectra_plots:\n",
    "        cl_rec_data=np.zeros((np.size(freq),np.size(freq),lmax+1),float)\n",
    "        for f1 in range(np.size(freq)):\n",
    "            for f2 in range(f1+1):\n",
    "                cl_rec_data[f1,f2,:]=h.alm2cl(h.map2alm(rec_data[f1,:],lmax=lmax),h.map2alm(rec_data[f2,:],lmax=lmax))      \n",
    "                cl_rec_data[f2,f1,:]=cl_rec_data[f1,f2,:]\n",
    "\n",
    "        for f1 in range(np.size(freq)):\n",
    "            figure()\n",
    "            for f2 in range(np.size(freq)):\n",
    "                plot(ell+1,cl_data[f1,f2,:],\"-\",c=color[f2],label=str(freq[f1]) + r\"$\\times$\" + str(freq[f2]))\n",
    "                plot(ell+1,abs(cl_rec_data[f1,f2,:]-cl_data[f1,f2,:]),\"--\",c=color[f2])#,label=str(freq[f1]) + r\"$\\times$\" + str(freq[f2]))\n",
    "            title(\"Map spectra reconstructed from fitting \" + str(num_moments) + \" moments\")\n",
    "            loglog()\n",
    "            ylim(ymax=1e0)\n",
    "            xlabel(\"multipole $\\ell + 1$\")\n",
    "            ylabel(\"$|C^{Data}_{\\ell} - C^{Rec. data}_{\\ell}|$\")\n",
    "            \n",
    "            legend(loc=0,ncol=3,fontsize=8)\n",
    "            filename=figpath_pdf + \"cross_spectra_with\" + str(freq[f1]) + \"GHz_moments_\" + str(num_moments) + \".pdf\"\n",
    "            savefig(filename,dpi=150,bbox_inches=\"tight\")\n",
    "            filename=figpath_jpeg + \"cross_spectra_with\" + str(freq[f1]) + \"GHz_moments_\" + str(num_moments) + \".jpeg\"\n",
    "            savefig(filename,dpi=150,bbox_inches=\"tight\")"
   ]
  },
  {
   "cell_type": "code",
   "execution_count": 36,
   "metadata": {
    "collapsed": false,
    "scrolled": true
   },
   "outputs": [
    {
     "name": "stdout",
     "output_type": "stream",
     "text": [
      "convert -quality 99 -density 150 -delay 120 -loop 0 ./jpeg/data_*.jpeg animate_data.gif\n",
      "convert -quality 99 -density 150 -delay 120 -loop 0 ./jpeg/moment*.jpeg animate_moments.gif\n",
      "convert -quality 99 -density 150 -delay 100 -loop 0 ./jpeg/fit_moments*.jpeg animate_fit_moments.gif\n",
      "convert -quality 99 -density 150 -delay 100 -loop 0 ./jpeg/cross_spectra_with100*.jpeg animate_cross_spectra_with100GHz.gif\n",
      "convert -quality 99 -density 150 -delay 100 -loop 0 ./jpeg/cross_spectra_with143*.jpeg animate_cross_spectra_with143GHz.gif\n",
      "convert -quality 99 -density 150 -delay 100 -loop 0 ./jpeg/cross_spectra_with217*.jpeg animate_cross_spectra_with217GHz.gif\n",
      "convert -quality 99 -density 150 -delay 100 -loop 0 ./jpeg/cross_spectra_with353*.jpeg animate_cross_spectra_with353GHz.gif\n",
      "convert -quality 99 -density 150 -delay 100 -loop 0 ./jpeg/cross_spectra_with545*.jpeg animate_cross_spectra_with545GHz.gif\n",
      "convert -quality 99 -density 150 -delay 100 -loop 0 ./jpeg/cross_spectra_with857*.jpeg animate_cross_spectra_with857GHz.gif\n"
     ]
    }
   ],
   "source": [
    "cmds=[]\n",
    "cmds.append(\"convert -quality 99 -density 150 -delay 120 -loop 0 ./jpeg/data_*.jpeg animate_data.gif\")\n",
    "cmds.append(\"convert -quality 99 -density 150 -delay 120 -loop 0 ./jpeg/moment*.jpeg animate_moments.gif\")\n",
    "cmds.append(\"convert -quality 99 -density 150 -delay 100 -loop 0 ./jpeg/fit_moments*.jpeg animate_fit_moments.gif\")\n",
    "for f in freq:\n",
    "    cmds.append(\"convert -quality 99 -density 150 -delay 100 -loop 0 ./jpeg/cross_spectra_with\" + str(f) + \"*.jpeg animate_cross_spectra_with\" + str(f) + \"GHz.gif\")\n",
    "    \n",
    "workdir=os.getcwd()\n",
    "os.chdir(figpath)\n",
    "for cmd in cmds:\n",
    "    print cmd\n",
    "    os.system(cmd)\n",
    "os.chdir(workdir)"
   ]
  },
  {
   "cell_type": "code",
   "execution_count": 32,
   "metadata": {
    "collapsed": false,
    "deletable": true,
    "editable": true,
    "hideOutput": true,
    "scrolled": false
   },
   "outputs": [],
   "source": [
    "x={}\n",
    "y={}\n",
    "figure()\n",
    "for i in range(6):\n",
    "    temp=hist(moments[i,:],bins=6000,histtype=\"step\",linewidth=2)\n",
    "    x[i]=(temp[1][1:]+temp[1][:-1])/2.\n",
    "    y[i]=temp[0]\n",
    "    \n",
    "figure()\n",
    "for i in range(6):\n",
    "    norm=x[i][y[i]==max(y[i])]\n",
    "    plot(x[i]/norm,y[i],label=\"Moment \" + str(i) + \" (xRescale =\" + str('{:.2e}'.format(norm[0])) + \")\",lw=2)\n",
    "xlim(0,2)\n",
    "legend(loc=0,fontsize=5)\n",
    "savefig(figpath + \"moment_histogram.pdf\",dpi=150)"
   ]
  },
  {
   "cell_type": "code",
   "execution_count": 33,
   "metadata": {
    "collapsed": false,
    "deletable": true,
    "editable": true
   },
   "outputs": [],
   "source": [
    "figure()\n",
    "color = ['#1f77b4', '#ff7f0e', '#2ca02c', '#d62728',\n",
    "              '#9467bd', '#8c564b', '#e377c2', '#7f7f7f',\n",
    "              '#bcbd22', '#17becf']\n",
    "for i in range(num_freq_pix):\n",
    "    T=T_fit[i] ; slope=slope_fit[i]\n",
    "    #print T,slope\n",
    "    gs_fit.gram_schmidt_iterative(nu,T,slope,tol=1e-12)\n",
    "    for j in range(6):\n",
    "        if i==0:\n",
    "            plot(nu,gs_fit.basis[j],lw=2,c=color[j],label=\"Basis\" + str(j))\n",
    "        else:\n",
    "            plot(nu,gs_fit.basis[j],lw=2,c=color[j])\n",
    "title(\"T=\" + str(round(np.mean(T_fit),3)) + r\"; $\\alpha$=\" + str(round(np.mean(slope_fit[0]),3)))\n",
    "xlabel(r\"Frequency $\\nu$ [GHz]\")\n",
    "ylabel(\"Gram-Schmidt basis function\")\n",
    "legend(loc=0,ncol=2)\n",
    "savefig(figpath + \"gs_basis.pdf\",dpi=150)"
   ]
  },
  {
   "cell_type": "code",
   "execution_count": 37,
   "metadata": {
    "collapsed": false,
    "deletable": true,
    "editable": true
   },
   "outputs": [],
   "source": [
    "if do_spectra_plots:\n",
    "    cl_moments=np.zeros((6,6,lmax+1),float)\n",
    "    for f1 in range(6):\n",
    "        for f2 in range(f1+1):\n",
    "            #print freq[f1],freq[f2]\n",
    "            sn=np.sign(np.mean(moments[f1,:]))*np.sign(np.mean(moments[f2,:]))\n",
    "            cl_moments[f1,f2,:]=h.alm2cl(h.map2alm(moments[f1,:],lmax=lmax),h.map2alm(moments[f2,:],lmax=lmax))*sn\n",
    "            cl_moments[f2,f1,:]=cl_moments[f1,f2,:]"
   ]
  },
  {
   "cell_type": "code",
   "execution_count": 39,
   "metadata": {
    "collapsed": false,
    "deletable": true,
    "editable": true,
    "scrolled": false
   },
   "outputs": [],
   "source": [
    "if do_spectra_plots:\n",
    "    fll=(ell+1)**0.\n",
    "    for f1 in range(6):\n",
    "            figure()\n",
    "            plot(ell+1,fll*cl_moments[f1,f2,:],\"k-\",label=\"Moment \" + str(f1) + r\"$\\times$\" + str(f1))\n",
    "            for f2 in range(np.size(freq)):\n",
    "                plot(ell+1,fll*cl_moments[f1,f2,:],\"-\",c=color[f2],label=\"Moment \" + str(f1) + r\"$\\times$\" + str(f2))\n",
    "            title(\"Moment spectra\")\n",
    "            semilogy()\n",
    "            xlabel(\"multipole $\\ell + 1$\")\n",
    "            ylabel(\"$C^{Moment}_{\\ell}$\")\n",
    "            grid()\n",
    "            legend(loc=0,ncol=3,fontsize=8)\n",
    "            filename=figpath_pdf + \"cross_spectra_moment_\" + str(f1) + \".pdf\"\n",
    "            savefig(filename,dpi=150,bbox_inches=\"tight\")\n",
    "            filename=figpath_jpeg + \"cross_spectra_moment_\" + str(f1) + \".jpeg\"\n",
    "            savefig(filename,dpi=150,bbox_inches=\"tight\")\n",
    "            close()"
   ]
  },
  {
   "cell_type": "code",
   "execution_count": 34,
   "metadata": {
    "collapsed": false,
    "hideCode": false,
    "hideOutput": true
   },
   "outputs": [
    {
     "name": "stderr",
     "output_type": "stream",
     "text": [
      "/Users/adityarotti/Library/Enthought/Canopy/edm/envs/User/lib/python2.7/site-packages/ipykernel_launcher.py:10: RuntimeWarning: divide by zero encountered in log10\n",
      "  # Remove the CWD from sys.path while we load stuff.\n"
     ]
    }
   ],
   "source": [
    "cov=np.zeros((6,6),float)\n",
    "for k in range(num_freq_pix):\n",
    "    T=T_fit[k] ; slope=slope_fit[k]\n",
    "    gs_fit.gram_schmidt_iterative(nu,T,slope,tol=1e-14)\n",
    "    for i in range(6):\n",
    "        for  j in range(6):\n",
    "            cov[i,j]=np.dot(gs_fit.basis[i],gs_fit.basis[j])\n",
    "        \n",
    "    figure()\n",
    "    imshow(log10(abs(cov)),origin=\"lower\")\n",
    "    colorbar()\n",
    "    xlabel(\"Basis i\") ; ylabel(\"Basis j\")\n",
    "    savefig(figpath + \"basis_orthonormality_\" + str(k) + \".pdf\",bbox_inches=\"tight\")"
   ]
  },
  {
   "cell_type": "code",
   "execution_count": null,
   "metadata": {
    "collapsed": true
   },
   "outputs": [],
   "source": []
  }
 ],
 "metadata": {
  "celltoolbar": "Hide code",
  "kernelspec": {
   "display_name": "Python 2",
   "language": "python",
   "name": "python2"
  },
  "language_info": {
   "codemirror_mode": {
    "name": "ipython",
    "version": 2
   },
   "file_extension": ".py",
   "mimetype": "text/x-python",
   "name": "python",
   "nbconvert_exporter": "python",
   "pygments_lexer": "ipython2",
   "version": "2.7.13"
  }
 },
 "nbformat": 4,
 "nbformat_minor": 2
}
