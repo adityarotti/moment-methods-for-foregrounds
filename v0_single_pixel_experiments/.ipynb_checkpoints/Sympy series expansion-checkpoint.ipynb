{
 "cells": [
  {
   "cell_type": "code",
   "execution_count": 13,
   "metadata": {
    "collapsed": false
   },
   "outputs": [
    {
     "name": "stdout",
     "output_type": "stream",
     "text": [
      "Populating the interactive namespace from numpy and matplotlib\n"
     ]
    },
    {
     "name": "stderr",
     "output_type": "stream",
     "text": [
      "/Users/adityarotti/Library/Enthought/Canopy/edm/envs/User/lib/python2.7/site-packages/IPython/core/magics/pylab.py:161: UserWarning: pylab import has clobbered these variables: ['f']\n",
      "`%matplotlib` prevents importing * from pylab and numpy\n",
      "  \"\\n`%matplotlib` prevents importing * from pylab and numpy\"\n"
     ]
    }
   ],
   "source": [
    "import sympy\n",
    "%pylab notebook"
   ]
  },
  {
   "cell_type": "code",
   "execution_count": 14,
   "metadata": {
    "collapsed": true
   },
   "outputs": [],
   "source": [
    "def mbb(nu,T,alpha,A,nu0=1.):\n",
    "    x=h*nu*1e9/(k*T)\n",
    "    Inu=A*((nu/nu0)**alpha)*(nu**3.)/(exp(x)-1.)\n",
    "    return Inu\n",
    "\n",
    "def f(x):\n",
    "    return sin(x)"
   ]
  },
  {
   "cell_type": "code",
   "execution_count": 23,
   "metadata": {
    "collapsed": false
   },
   "outputs": [
    {
     "data": {
      "image/png": "[encoded data removed]",
      "text/latex": [
       "$$1 - \\frac{x^{2}}{2} + \\frac{x^{4}}{24} - \\frac{x^{6}}{720} + \\frac{x^{8}}{40320} - \\frac{x^{10}}{3628800} + \\frac{x^{12}}{479001600} - \\frac{x^{14}}{87178291200} + \\frac{x^{16}}{20922789888000} - \\frac{x^{18}}{6402373705728000} + \\mathcal{O}\\left(x^{20}\\right)$$"
      ],
      "text/plain": [
       "     2    4     6      8       10         12           14             16      \n",
       "    x    x     x      x       x          x            x              x        \n",
       "1 - ── + ── - ─── + ───── - ─────── + ───────── - ─────────── + ──────────────\n",
       "    2    24   720   40320   3628800   479001600   87178291200   20922789888000\n",
       "\n",
       "          18                \n",
       "         x             ⎛ 20⎞\n",
       " - ──────────────── + O⎝x  ⎠\n",
       "   6402373705728000         "
      ]
     },
     "execution_count": 23,
     "metadata": {},
     "output_type": "execute_result"
    }
   ],
   "source": [
    "x=sympy.symbols('x')\n",
    "sympy.series(sympy.cos(x),x,n=20)"
   ]
  },
  {
   "cell_type": "code",
   "execution_count": null,
   "metadata": {
    "collapsed": true
   },
   "outputs": [],
   "source": []
  }
 ],
 "metadata": {
  "kernelspec": {
   "display_name": "Python 2",
   "language": "python",
   "name": "python2"
  },
  "language_info": {
   "codemirror_mode": {
    "name": "ipython",
    "version": 2
   },
   "file_extension": ".py",
   "mimetype": "text/x-python",
   "name": "python",
   "nbconvert_exporter": "python",
   "pygments_lexer": "ipython2",
   "version": "2.7.13"
  }
 },
 "nbformat": 4,
 "nbformat_minor": 2
}
