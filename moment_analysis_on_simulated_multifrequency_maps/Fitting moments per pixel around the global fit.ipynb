{
 "cells": [
  {
   "cell_type": "code",
   "execution_count": 1,
   "metadata": {
    "collapsed": false,
    "deletable": true,
    "editable": true
   },
   "outputs": [
    {
     "name": "stdout",
     "output_type": "stream",
     "text": [
      "Populating the interactive namespace from numpy and matplotlib\n"
     ]
    }
   ],
   "source": [
    "%pylab notebook\n",
    "from modules import sim_mf_maps as sim\n",
    "#from modules import moment_fits_v0 as gmf\n",
    "from modules import moment_fits_v2 as gmf\n",
    "import healpy as h\n",
    "\n",
    "ioff()"
   ]
  },
  {
   "cell_type": "markdown",
   "metadata": {
    "deletable": true,
    "editable": true
   },
   "source": [
    "# Simulating multi-frequency MBB maps"
   ]
  },
  {
   "cell_type": "code",
   "execution_count": 17,
   "metadata": {
    "collapsed": false,
    "deletable": true,
    "editable": true
   },
   "outputs": [
    {
     "name": "stdout",
     "output_type": "stream",
     "text": [
      "mkdir: ./figures/sim_vary-T-N10-alpha_wide/: File exists\r\n"
     ]
    }
   ],
   "source": [
    "# Setting the MBB simulation parameters here.\n",
    "nside=8\n",
    "npix=h.nside2npix(nside)\n",
    "nu_min=10        # GHz\n",
    "nu_max=3000      # GHz\n",
    "num_channels=50\n",
    "T1=9.75 ; dT1=4.\n",
    "#T2=T1 ; dT2=dT1\n",
    "T2=15.7 ; dT2=4.\n",
    "alpha1=1.63 ; dalpha1=0.1\n",
    "alpha2=alpha1 ; dalpha2=dalpha1\n",
    "alpha2=2.82 ; dalpha2=0.1\n",
    "N=3 ; dN=1.\n",
    "figpath=\"./figures/sim_vary-T-N10-alpha_wide/\"\n",
    "! mkdir $figpath\n",
    "\n",
    "pname=[\"Nside\",\"nu_min\",\"nu_max\",\"Channels\",\"T1\",\"dT1\",\"alpha1\",\"dalpha1\",\"T2\",\"dT2\",\"alpha2\",\"dalpha2\",\"N\",\"dN\"]\n",
    "pval=[nside,nu_min,nu_max,num_channels,T1,dT1,alpha1,dalpha1,T2,dT2,alpha2,dalpha2,float(N),float(dN)]\n",
    "param=open(figpath + \"param.txt\",\"w\")\n",
    "for i in range(size(pname)):\n",
    "    param.write('%-10s %5.2f\\n' % (pname[i], pval[i]))\n",
    "param.close()"
   ]
  },
  {
   "cell_type": "code",
   "execution_count": 18,
   "metadata": {
    "collapsed": false,
    "deletable": true,
    "editable": true,
    "scrolled": false
   },
   "outputs": [],
   "source": [
    "o=sim.sim_methods(npix,nu_min,nu_max,num_channels)\n",
    "o.gen_mf_data(T1,dT1,T2,dT1,alpha1,dalpha1,alpha2,dalpha2,N,dN)\n",
    "o.normalize_data(1e7,2000.)\n",
    "#o.gen_data_plots(figpath)"
   ]
  },
  {
   "cell_type": "markdown",
   "metadata": {
    "deletable": true,
    "editable": true
   },
   "source": [
    "# Passing multi-frequency map data to the global moment fitting functions"
   ]
  },
  {
   "cell_type": "code",
   "execution_count": 19,
   "metadata": {
    "collapsed": false,
    "deletable": true,
    "editable": true
   },
   "outputs": [],
   "source": [
    "gf=gmf.mbb_moment_fits(npix,o.nu,o.data,figpath=figpath)\n",
    "gf.get_data_monopole()"
   ]
  },
  {
   "cell_type": "markdown",
   "metadata": {
    "deletable": true,
    "editable": true
   },
   "source": [
    "# Fitting the monopole with moments upto 3rd order"
   ]
  },
  {
   "cell_type": "code",
   "execution_count": 20,
   "metadata": {
    "collapsed": false,
    "deletable": true,
    "editable": true,
    "scrolled": false
   },
   "outputs": [
    {
     "name": "stdout",
     "output_type": "stream",
     "text": [
      "T = 17.063735332  alpha= 2.97489053051  A= 0.000446667014397\n"
     ]
    }
   ],
   "source": [
    "gf.fit_mbb_monopole(gf.nu,gf.monopole,ub=[50,9,15],maxfev=50000)"
   ]
  },
  {
   "cell_type": "markdown",
   "metadata": {
    "deletable": true,
    "editable": true
   },
   "source": [
    "# Carrying out the fitting at 1,2 and 3 order"
   ]
  },
  {
   "cell_type": "code",
   "execution_count": 21,
   "metadata": {
    "collapsed": false,
    "deletable": true,
    "editable": true,
    "scrolled": false
   },
   "outputs": [
    {
     "name": "stdout",
     "output_type": "stream",
     "text": [
      "This took: 0.002312 seconds per pixel.\n",
      "This took: 0.0051969296875 seconds per pixel.\n",
      "This took: 1.17272585026 seconds per pixel.\n"
     ]
    }
   ],
   "source": [
    "gf.fit_mbb_order1(prange=1000.)\n",
    "gf.fit_mbb_order2(prange=1000.)\n",
    "gf.fit_mbb_order3(prange=1000.,maxfev=500000)"
   ]
  },
  {
   "cell_type": "markdown",
   "metadata": {
    "deletable": true,
    "editable": true
   },
   "source": [
    "ion()\n",
    "figure() ; sl=3.\n",
    "par=gf.par_monopole\n",
    "#plot(gf.nu,gf.monopole/(gf.nu**sl),\"k-\",lw=2,label=\"Monopole\")\n",
    "#plot(gf.nu,gf.mbb_moments(gf.nu,T=par[0],alpha=par[1],A=par[2],p22=par[3],p23=par[4],p33=par[5],p222=par[6],p223=par[7],p233=par[8],p333=par[9])/(gf.nu**sl),\"b--\",lw=2,label=\"MBB fit\")\n",
    "#plot(gf.nu,abs(gf.monopole-gf.mbb_moments(gf.nu,T=par[0],alpha=par[1],A=par[2],p22=par[3],p23=par[4],p33=par[5],p222=par[6],p223=par[7],p233=par[8],p333=par[9]))/gf.monopole,\"r--\",lw=2,label=\"Difference\")\n",
    "#loglog()"
   ]
  },
  {
   "cell_type": "code",
   "execution_count": null,
   "metadata": {
    "collapsed": true,
    "deletable": true,
    "editable": true
   },
   "outputs": [],
   "source": []
  },
  {
   "cell_type": "code",
   "execution_count": null,
   "metadata": {
    "collapsed": true,
    "deletable": true,
    "editable": true
   },
   "outputs": [],
   "source": []
  },
  {
   "cell_type": "code",
   "execution_count": null,
   "metadata": {
    "collapsed": true,
    "deletable": true,
    "editable": true
   },
   "outputs": [],
   "source": []
  }
 ],
 "metadata": {
  "kernelspec": {
   "display_name": "Python 2",
   "language": "python",
   "name": "python2"
  },
  "language_info": {
   "codemirror_mode": {
    "name": "ipython",
    "version": 2
   },
   "file_extension": ".py",
   "mimetype": "text/x-python",
   "name": "python",
   "nbconvert_exporter": "python",
   "pygments_lexer": "ipython2",
   "version": "2.7.13"
  }
 },
 "nbformat": 4,
 "nbformat_minor": 2
}
